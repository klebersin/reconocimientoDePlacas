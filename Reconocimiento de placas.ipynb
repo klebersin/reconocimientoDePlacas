{
 "cells": [
  {
   "cell_type": "code",
   "execution_count": 1,
   "metadata": {},
   "outputs": [],
   "source": [
    "import cv2\n",
    "import pytesseract\n"
   ]
  },
  {
   "cell_type": "code",
   "execution_count": 6,
   "metadata": {},
   "outputs": [
    {
     "name": "stdout",
     "output_type": "stream",
     "text": [
      "area= 9007.0\n",
      "PLACA:  CVL 657 18\n",
      "\f",
      "\n"
     ]
    },
    {
     "data": {
      "text/plain": [
       "-1"
      ]
     },
     "execution_count": 6,
     "metadata": {},
     "output_type": "execute_result"
    }
   ],
   "source": [
    "pytesseract.pytesseract.tesseract_cmd = r'C:\\Program Files\\Tesseract-OCR\\tesseract'\n",
    "placa = []\n",
    "image = cv2.imread('auto001.jpg')\n",
    "gray = cv2.cvtColor(image, cv2.COLOR_BGR2GRAY)\n",
    "gray = cv2.blur(gray,(3,3))\n",
    "canny = cv2.Canny(gray,150,200)\n",
    "canny = cv2.dilate(canny,None,iterations=1)\n",
    "cnts,_ = cv2.findContours(canny,cv2.RETR_LIST,cv2.CHAIN_APPROX_SIMPLE)\n",
    "\n",
    "for c in cnts:\n",
    "    area = cv2.contourArea(c)\n",
    "    x,y,w,h = cv2.boundingRect(c)\n",
    "    epsilon = 0.09*cv2.arcLength(c,True)\n",
    "    approx = cv2.approxPolyDP(c,epsilon,True)\n",
    "    if len(approx)==4 and area>9000:\n",
    "        print('area=',area)\n",
    "        aspect_ratio = float(w)/h\n",
    "        if aspect_ratio > 2.4:\n",
    "            placa = gray[y:y+h,x:x+w]\n",
    "            text = pytesseract.image_to_string(placa,config='--psm 11')\n",
    "            print('PLACA: ',text)\n",
    "            cv2.imshow('PLACA',placa)\n",
    "            cv2.moveWindow('PLACA',780,10)\n",
    "            cv2.rectangle(image,(x,y),(x+w,y+h),(0,255,0),3)\n",
    "            cv2.putText(image,text,(x-20,y-10),1,2.2,(0,255,0),3)\n",
    "\n",
    "cv2.imshow('Image',image)\n",
    "cv2.moveWindow('Image',45,10)\n",
    "cv2.waitKey(0)"
   ]
  },
  {
   "cell_type": "code",
   "execution_count": null,
   "metadata": {},
   "outputs": [],
   "source": []
  }
 ],
 "metadata": {
  "kernelspec": {
   "display_name": "Python 3",
   "language": "python",
   "name": "python3"
  },
  "language_info": {
   "codemirror_mode": {
    "name": "ipython",
    "version": 3
   },
   "file_extension": ".py",
   "mimetype": "text/x-python",
   "name": "python",
   "nbconvert_exporter": "python",
   "pygments_lexer": "ipython3",
   "version": "3.8.5"
  }
 },
 "nbformat": 4,
 "nbformat_minor": 4
}
